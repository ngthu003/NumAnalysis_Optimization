{
 "cells": [
  {
   "cell_type": "markdown",
   "metadata": {},
   "source": [
    "## Gradient Descent and Variants on MNIST Digit Recognition\n",
    "\n"
   ]
  },
  {
   "cell_type": "markdown",
   "metadata": {},
   "source": [
    "### Objectives\n",
    "\n",
    "We consider the familiar problem of digit recognition. We have 2 main objectives:\n",
    "\n",
    "1.  Observe the training time (time required for convergence) among the different versions of __gradient descent__ algorithms,\n",
    "2.  Build a model to predict the digits, in pair-wise classification task.\n",
    "\n",
    "The different versions of _gradient descent_ algorithms we will consider are:\n",
    "\n",
    "*  (Standard) Gradient Descent (GD)\n",
    "*  Stochastic Gradient Descent (SGD)\n",
    "*  Minibatch Gradient Descent (MBGD)\n",
    "*  MBGD with Momentum\n",
    "*  MBGD with Nesterov Acceleration\n",
    "\n",
    "###### Data\n",
    "\n",
    "The data is the classic [MNIST dataset](http://yann.lecun.com/exdb/mnist/). The dataset is a collection of images of single digits $\\{0,1,2,3,4,5,6,7,8,9\\}$. The training set has $60,000$ examples and the test set has $10,000$ examples. Further information can be found on the [website](http://yann.lecun.com/exdb/mnist/).\n",
    "\n",
    "##### Contents\n",
    "\n",
    "1. [The Problem](#Problem) <br>\n",
    "    1.1. [Derivation of the Problem](#Derivation) <br>\n",
    "    1.2. [Gradient Descent and Variants](#GD_Variants) <br>\n",
    "2. [Code Implementation](#Code) <br>\n",
    "    2.1. [Packages and Data Loading](#Loading) <br>\n",
    "    2.2. [Helper Functions](#Helper_Functions) <br>\n",
    "    2.3. [Main Functions, Gradient Descent](#Main_Functions) <br>\n",
    "    2.4. [Model Building](#Model_Building) <br>\n",
    "    2.5. [Model Evaluation](#Model_Evaluation) <br>\n"
   ]
  },
  {
   "cell_type": "markdown",
   "metadata": {},
   "source": [
    "<br/>\n",
    "\n",
    "### 1.  <a id = 'Problem'> The Problem </a>\n",
    "\n",
    "#### 1.1.  <a id = 'Derivation'> Derivation of the Problem </a>\n",
    "\n",
    "We will model this as a binary classification problem: we will built model to predict between every 2 digits. Put formally, suppose we have some data points $\\{x_i, y_i\\}_{i=1}^N \\in \\mathbb{R}^d \\times \\mathbb{R}$, where $x_i$ is the feature vector (in this case a $784$-dimension vector of pixel values), $y_i \\in \\{-1,1\\}$ is the class label, and $N$ is the number of training points.\n",
    "\n",
    "Given $(x_i, y_i)$, we will model $y_i = sign(w^T x_i)$, where $w \\in \\mathbb{R}^d$ is the parameter we want to find. The associated cost function $F$ is thus\n",
    "\n",
    "$$\n",
    "    F(w) \n",
    "    \\ = \\ \\frac{1}{N} \\sum_{i=1}^N f_i(w)\n",
    "    \\ = \\ \\frac{1}{N} \\sum_{i=1}^N \\log\\left( 1 + e^{-w^T x_i y_i} \\right)\n",
    "$$\n",
    "\n",
    "where $f_i = \\log\\left( 1 + e^{-w^T x_i y_i} \\right)$ be the loss associated with the $i^{th}$ data point $(x_i, y_i)$.\n",
    "\n",
    "Given $F$, the gradient $\\nabla_w F$ with respect to $w$ is thus\n",
    "\n",
    "$$\n",
    "    \\nabla F\n",
    "        \\ = \\ \\frac{1}{N} \\sum_{i=1}^N \\nabla f_i\n",
    "        \\ = \\ \\left( \\frac{1}{N} \\sum_{i=1}^N \\frac{- e^{- w^T x_i y_i} }{1 + e^{- w^T x_i y_i}} \\left( x_i y_i \\right) \\right)\n",
    "        \\ = \\ \\left( \\frac{1}{N} \\sum_{i=1}^N \\frac{ 1 }{1 + e^{w^T x_i y_i}} \\left( - x_i y_i \\right) \\right)\n",
    "$$"
   ]
  },
  {
   "cell_type": "markdown",
   "metadata": {},
   "source": [
    "<br/>\n",
    "\n",
    "#### 1.2.  <a id = 'GD_Variants'> Gradient Descent and Variants </a>\n",
    "\n",
    "We recall the update rule in the __gradient descent__ algorithm: given the current weight $w^t$, we update it as\n",
    "\n",
    "$$\n",
    "    w^{(t+1)}\n",
    "    \\ = \\ w^t - \\alpha_t \\sum_{i=1}^k \\nabla f_i(w^t)\n",
    "$$\n",
    "\n",
    "where if $k = N$, we have the base *gradient descent*, $k = 1$ *stochastic gradient descent*, and $1 < k < N$ (common choices include $k = 16$ or $32$) *minibatch gradient descent*. Without loss of generality, suppose we start with minibatch gradient descent, we can boost the convergence with a *momentum*. For example:\n",
    "\n",
    "*  GD with *momentum*, \n",
    "$$w^{(t+1)} \\ = \\ w^t - \\left( \\alpha_t \\sum_{i=1}^k \\nabla f_i(w^t) \\right) + \\beta_t\\left( x^t - x^{(t-1)} \\right)$$\n",
    "*  GD with Nesterov acceleration, \n",
    "$$w^{(t+1)} \\ = \\ w^t - \\left( \\alpha \\sum_{i=1}^k \\nabla f_i \\left(w^t + \\beta_t(w^t - w^{(t-1)}) \\right) \\right) + \\beta_t \\left( w^t + \\beta_t(w^t - w^{(t-1)}) \\right)$$"
   ]
  },
  {
   "cell_type": "markdown",
   "metadata": {},
   "source": [
    "\n",
    "<br/>\n",
    "\n",
    "### 2.  <a id = 'Code'> Code Implementation </a>\n",
    "\n",
    "#### 2.1.  <a id = 'Loading'> Packages and Data Loading </a>\n",
    "\n",
    "We first load the necessary packages."
   ]
  },
  {
   "cell_type": "code",
   "execution_count": 1,
   "metadata": {},
   "outputs": [],
   "source": [
    "import numpy as np\n",
    "import pandas as pd\n",
    "from matplotlib import pyplot as plt\n",
    "from matplotlib.pyplot import figure\n",
    "import time\n",
    "from IPython.display import Image"
   ]
  },
  {
   "cell_type": "markdown",
   "metadata": {},
   "source": [
    "We now load the datasets and rename `Label` column."
   ]
  },
  {
   "cell_type": "code",
   "execution_count": 2,
   "metadata": {},
   "outputs": [],
   "source": [
    "data_train = pd.read_csv('mnist_train.csv', header=None)\n",
    "data_test = pd.read_csv('mnist_test.csv', header=None)\n",
    "data_train.rename(columns={ data_train.columns[0]: \"Label\" }, inplace = True)\n",
    "data_test.rename(columns={ data_test.columns[0]: \"Label\" }, inplace = True)"
   ]
  },
  {
   "cell_type": "code",
   "execution_count": 3,
   "metadata": {},
   "outputs": [
    {
     "name": "stdout",
     "output_type": "stream",
     "text": [
      "-----------------------------\n",
      "Number of observations per digits\n",
      "-----------------------------\n",
      "\n",
      "-----------------------------\n",
      "Train set:\n",
      "[[   0    1    2    3    4    5    6    7    8    9]\n",
      " [5923 6742 5958 6131 5842 5421 5918 6265 5851 5949]]\n",
      "\n",
      "-----------------------------\n",
      "Test set:\n",
      "[[   0    1    2    3    4    5    6    7    8    9]\n",
      " [ 980 1135 1032 1010  982  892  958 1028  974 1009]]\n"
     ]
    }
   ],
   "source": [
    "print('-----------------------------' + '\\n' + 'Number of observations per digits' + '\\n' + '-----------------------------')\n",
    "print('\\n' + '-----------------------------' + '\\n' + 'Train set:')\n",
    "print(np.array(np.unique(data_train['Label'], return_counts=True)))\n",
    "print('\\n' + '-----------------------------' + '\\n' + 'Test set:')\n",
    "print(np.array(np.unique(data_test['Label'], return_counts=True)))"
   ]
  },
  {
   "cell_type": "markdown",
   "metadata": {},
   "source": [
    "<br/>\n",
    "\n",
    "#### 2.2.  <a id = 'Helper_Functions'> Helper Functions </a>\n",
    "\n",
    "We write some functions for later use:\n",
    "\n",
    "*  `getData(df, digits, n)` to get `n` random observations from the data set `df` with desired digits `digits`\n",
    "*  `loss_fn(df, w)` to compute the loss on the data set `df` given current weight `w`\n",
    "*  `grad_F(df, w)` to compute the gradient given the training points `df` and current weight `w`\n",
    "*  `getError(df, w)` to compute the *error rate* on the data set `df` given current weight `w`\n",
    "*  `plot` to plot the training losses\n",
    "\n",
    "`getData(df,digits,n)`"
   ]
  },
  {
   "cell_type": "code",
   "execution_count": 4,
   "metadata": {},
   "outputs": [],
   "source": [
    "def getData( df, digits, n ):\n",
    "    \n",
    "    # Shuffle observations\n",
    "    indices = np.arange(df.shape[0])\n",
    "    np.random.shuffle(indices)\n",
    "    df = df.iloc[indices]\n",
    "    \n",
    "    # Get observations based on wanted digits\n",
    "    data = df[df['Label'].isin(digits)].groupby('Label').head(n)\n",
    "    \n",
    "    # Set the labels to {-1,1}\n",
    "    data['Label'] = np.sign( data['Label'] - sum(digits)/len(digits) )\n",
    "    \n",
    "    return data"
   ]
  },
  {
   "cell_type": "markdown",
   "metadata": {},
   "source": [
    "`loss_fn(df, w)`"
   ]
  },
  {
   "cell_type": "code",
   "execution_count": 5,
   "metadata": {},
   "outputs": [],
   "source": [
    "def loss_fn(df, w):\n",
    "    \n",
    "    # Get appropriate data points & labels\n",
    "    X = df.drop('Label', axis = 1) / 255\n",
    "    Y = df['Label']\n",
    "    \n",
    "    term_e = np.dot(w, X.transpose()) * Y\n",
    "    term_e = np.exp(- term_e)\n",
    "    term_log = np.log( 1 + term_e )\n",
    "\n",
    "    return term_log.mean()"
   ]
  },
  {
   "cell_type": "markdown",
   "metadata": {},
   "source": [
    "`grad_F(df, w)`"
   ]
  },
  {
   "cell_type": "code",
   "execution_count": 6,
   "metadata": {},
   "outputs": [],
   "source": [
    "def grad_F(df, w):\n",
    "    \n",
    "    # Get appropriate data points & labels\n",
    "    X = df.drop('Label', axis = 1) / 255\n",
    "    Y = df['Label']\n",
    "    N = len(Y)\n",
    "    \n",
    "    # Compute gradient of sum\n",
    "    term_e = np.exp( np.dot( X, w ) * Y )\n",
    "    term_e = np.array( 1/(1+term_e) * Y )\n",
    "    # Reshape vector to matrix\n",
    "    term_e = np.repeat(term_e, d).reshape( N, d )\n",
    "    grad_mat = term_e * X\n",
    "    grad = np.sum( grad_mat, axis = 0 )\n",
    "    \n",
    "    # Total gradient\n",
    "    return - grad / N"
   ]
  },
  {
   "cell_type": "markdown",
   "metadata": {},
   "source": [
    "`getError(df,w)`"
   ]
  },
  {
   "cell_type": "code",
   "execution_count": 7,
   "metadata": {},
   "outputs": [],
   "source": [
    "def getError(df,w):\n",
    "    # Get appropriate data points & labels\n",
    "    X = df.drop('Label', axis = 1) / 255\n",
    "    Y = df['Label']\n",
    "    # Prediction\n",
    "    pred = np.sign(np.dot(X,w))\n",
    "    # Error rate\n",
    "    error = np.mean(pred != Y)\n",
    "    return error"
   ]
  },
  {
   "cell_type": "markdown",
   "metadata": {},
   "source": [
    "`plot(loss, plt_alpha, plt_color, plt_label)`"
   ]
  },
  {
   "cell_type": "code",
   "execution_count": 8,
   "metadata": {},
   "outputs": [],
   "source": [
    "def plot(loss, plt_alpha, plt_color, plt_label):\n",
    "    plt.plot(idx, loss, '-', color = plt_color, alpha = plt_alpha, \n",
    "         label = plt_label)"
   ]
  },
  {
   "cell_type": "markdown",
   "metadata": {},
   "source": [
    "<br/>\n",
    "\n",
    "#### 2.3.  <a id = 'Main_Functions'> Main Functions, Gradient Descent </a>\n",
    "\n",
    "Here we write 2 functions to run the base *gradient descent* and GD with acceleration:\n",
    "\n",
    "*  `Grad_Desc(df, w, k, alpha, T)` to run base *gradient descent*, where `k` is the number of training points used per iterate\n",
    "*  `GD_Accelerated(df, w, k, alpha, beta, T, variant)` to run GD with accelertion, where `variant` is to specify either *momentum* or *Nesterov acceleration*"
   ]
  },
  {
   "cell_type": "markdown",
   "metadata": {},
   "source": [
    "<br/>\n",
    "\n",
    "`Grad_Desc(df, w, k, alpha, T)`:\n",
    "*  `df, w`: training dataset and the initial $w^{(0)}$\n",
    "*  `k`: which controls the between GD, Stochastic GD, and Minibatch GD: \n",
    "    *  `k = all`: GD\n",
    "    *  `k = 1`: Stochastic GD\n",
    "    *  `k = 16`: Minibatch GD, (or $k$ can be any number of data points to be used per iterate)\n",
    "*  `alpha`: the step-size per iterate\n",
    "*  `T`: the number of iterate (aka the stopping criteria)"
   ]
  },
  {
   "cell_type": "code",
   "execution_count": 9,
   "metadata": {},
   "outputs": [],
   "source": [
    "def Grad_Desc( df, w, k, alpha, T ):\n",
    "    \n",
    "    loss_vector = [0]*T     # Initialize vector to track loss fn\n",
    "    \n",
    "    for t in range(0,T):\n",
    "        loss_vector[t] = loss_fn( df, w )\n",
    "        \n",
    "        if k == 'all':\n",
    "            data = df\n",
    "        else:\n",
    "            # Get sampled data points\n",
    "            indices = np.random.choice( np.arange( df.shape[0] ), k, replace = False )\n",
    "            data = df.iloc[indices]\n",
    "        \n",
    "        # Train model\n",
    "        w = w - alpha * grad_F( data, w )\n",
    "    \n",
    "    return loss_vector, w"
   ]
  },
  {
   "cell_type": "markdown",
   "metadata": {},
   "source": [
    "<br/>\n",
    "\n",
    "`GD_Accelerated(df, w, k, alpha, beta, T, variant)`\n",
    "*  `df, w`: training dataset and the initial $w^{(0)}$\n",
    "*  `k`: the number of data points to be used per iterate\n",
    "*  `alpha`: the step-size per iterate\n",
    "*  `beta`: the momentum parameter\n",
    "*  `T`: the number of iterate (aka the stopping criteria)\n",
    "*  `variant`: to choose which variant: `momentum` or `Nesterov`"
   ]
  },
  {
   "cell_type": "code",
   "execution_count": 10,
   "metadata": {},
   "outputs": [],
   "source": [
    "def GD_Accelerated( df, w, k, alpha, beta, T, variant ):\n",
    "    \n",
    "    loss_vector = [0]*T\n",
    "    w_prv = w\n",
    "    \n",
    "    for t in range(0,T):\n",
    "        loss_vector[t] = loss_fn( df, w )\n",
    "        \n",
    "        # Get sampled data points\n",
    "        indices = np.random.choice( np.arange( df.shape[0] ), k, replace = False )\n",
    "        data = df.iloc[indices]\n",
    "        \n",
    "        # Train model\n",
    "        if variant == 'momentum':\n",
    "            w_tmp = w - alpha * grad_F( data, w ) + beta * (w - w_prv)\n",
    "        elif variant == 'Nesterov':\n",
    "            w_mmt = w + beta * (w - w_prv)\n",
    "            w_tmp = w_mmt - alpha * grad_F(data, w_mmt)\n",
    "        else:\n",
    "            print('Error: Acceleration not found')\n",
    "            break\n",
    "        \n",
    "        w_prv = w\n",
    "        w     = w_tmp\n",
    "        \n",
    "    return loss_vector, w"
   ]
  },
  {
   "cell_type": "markdown",
   "metadata": {},
   "source": [
    "<br/>\n",
    "\n",
    "#### 2.4.  <a id = 'Model_Building'> Model Building </a>\n",
    "\n",
    "We are now ready to build the model. For demonstration, we will train the model to predict $1$ versus $7$.\n",
    "\n",
    "We first get the necessary train and test sets."
   ]
  },
  {
   "cell_type": "code",
   "execution_count": 11,
   "metadata": {},
   "outputs": [],
   "source": [
    "digits = [1,7]\n",
    "train = getData(data_train, digits, 2000)\n",
    "test = getData(data_test, digits, 500)\n",
    "\n",
    "# Dimension of variables\n",
    "d = train.shape[1] - 1"
   ]
  },
  {
   "cell_type": "markdown",
   "metadata": {},
   "source": [
    "We now run the algorithms to train the model."
   ]
  },
  {
   "cell_type": "code",
   "execution_count": 12,
   "metadata": {},
   "outputs": [],
   "source": [
    "T = 1000\n",
    "alpha, beta = .0005, .8\n",
    "\n",
    "# Vanilla Gradient Descent ---------------------------------\n",
    "# Gradient Descent\n",
    "start_time = time.perf_counter()\n",
    "w = np.zeros(d)\n",
    "k = 'all'\n",
    "loss_GD, w_GD = Grad_Desc( train, w, k, alpha, T )\n",
    "time_GD = time.perf_counter() - start_time\n",
    "\n",
    "# Stochastic Gradient Descent\n",
    "start_time = time.perf_counter()\n",
    "w = np.zeros(d)\n",
    "k = 1\n",
    "loss_SGD, w_SGD = Grad_Desc( train, w, k, alpha, T )\n",
    "time_SGD = time.perf_counter() - start_time\n",
    "\n",
    "# Minibatch Gradient Descent\n",
    "start_time = time.perf_counter()\n",
    "w = np.zeros(d)\n",
    "k = 32\n",
    "loss_MBGD, w_MBGD = Grad_Desc( train, w, k, alpha, T )\n",
    "time_MBGD = time.perf_counter() - start_time\n",
    "\n",
    "\n",
    "# Gradient Descent with Acceleration -----------------------\n",
    "k = 32\n",
    "\n",
    "# Minibatch Gradient Descent with Momentum\n",
    "start_time = time.perf_counter()\n",
    "w = np.zeros(d)\n",
    "loss_MBGD_MMT, w_MBGD_MMT = GD_Accelerated( train, w, k, alpha, beta, T, 'momentum' )\n",
    "time_MBGD_MMT = time.perf_counter() - start_time\n",
    "\n",
    "# Minibatch Gradient Descent with Nesterov Acceleration\n",
    "start_time = time.perf_counter()\n",
    "w = np.zeros(d)\n",
    "loss_MBGD_Nest, w_MBGD_Nest = GD_Accelerated( train, w, k, alpha, beta, T, 'Nesterov' )\n",
    "time_MBGD_Nest = time.perf_counter() - start_time"
   ]
  },
  {
   "cell_type": "markdown",
   "metadata": {},
   "source": [
    "Training is now complete, let us look at the losses over the training."
   ]
  },
  {
   "cell_type": "code",
   "execution_count": 13,
   "metadata": {},
   "outputs": [
    {
     "data": {
      "image/png": "[encoded data removed]",
      "text/plain": [
       "<Figure size 960x480 with 1 Axes>"
      ]
     },
     "metadata": {},
     "output_type": "display_data"
    }
   ],
   "source": [
    "figure(num=None, figsize=(12, 6), dpi=80, facecolor='w', edgecolor='k')\n",
    "plt.box(False)\n",
    "\n",
    "idx = np.arange(0, T)\n",
    "# Plot of loss functions\n",
    "plot(loss_GD, .5, 'black', 'Gradient Descent')\n",
    "plot(loss_SGD, .5, 'red', 'Stochastic Gradient Descent')\n",
    "plot(loss_MBGD, .5, 'blue', 'Minibatch Gradient Descent')\n",
    "plot(loss_MBGD_MMT, .5, 'green', 'Minibatch GD with Momentum')\n",
    "plot(loss_MBGD_Nest, .5, 'orange', 'Minibatch GD with Nesterov Acc.')\n",
    "\n",
    "plt.title('Digit recognition: 1 vs 7', fontsize = 20)\n",
    "plt.xlabel('Iterates', fontsize = 15); plt.ylabel('Loss function', fontsize = 15)\n",
    "plt.axis()\n",
    "plt.legend()\n",
    "\n",
    "plt.savefig('MNIST Digits - Algorithms convergence rates.png', bbox_inches='tight')"
   ]
  },
  {
   "cell_type": "markdown",
   "metadata": {},
   "source": [
    "#### 2.5.  <a id = 'Model_Evaluation'> Model Evaluation </a>\n",
    "\n",
    "Now that the training is completed, let us evaluate the model via the error rates on both the train and test sets."
   ]
  },
  {
   "cell_type": "code",
   "execution_count": 14,
   "metadata": {},
   "outputs": [],
   "source": [
    "w_trained = [w_GD, w_SGD, w_MBGD, w_MBGD_MMT, w_MBGD_Nest]\n",
    "\n",
    "Err_Train = []\n",
    "Err_Test = []\n",
    "for w in w_trained:\n",
    "    Err_Train.append(round(getError( train, w),3))\n",
    "    Err_Test.append(round(getError( test, w),3))"
   ]
  },
  {
   "cell_type": "code",
   "execution_count": 15,
   "metadata": {},
   "outputs": [
    {
     "name": "stdout",
     "output_type": "stream",
     "text": [
      "----------------------------------------------------------\n",
      "Algorithm Statistics:\n",
      "----------------------------------------------------------\n"
     ]
    },
    {
     "data": {
      "text/html": [
       "<div>\n",
       "<style scoped>\n",
       "    .dataframe tbody tr th:only-of-type {\n",
       "        vertical-align: middle;\n",
       "    }\n",
       "\n",
       "    .dataframe tbody tr th {\n",
       "        vertical-align: top;\n",
       "    }\n",
       "\n",
       "    .dataframe thead th {\n",
       "        text-align: right;\n",
       "    }\n",
       "</style>\n",
       "<table border=\"1\" class=\"dataframe\">\n",
       "  <thead>\n",
       "    <tr style=\"text-align: right;\">\n",
       "      <th></th>\n",
       "      <th>Gradient Descent</th>\n",
       "      <th>Stochastic GD</th>\n",
       "      <th>Minibatch BGD</th>\n",
       "      <th>GD w/ Momentum</th>\n",
       "      <th>GD w/ Nesterov Acc</th>\n",
       "    </tr>\n",
       "  </thead>\n",
       "  <tbody>\n",
       "    <tr>\n",
       "      <th>Error: Train set</th>\n",
       "      <td>0.029</td>\n",
       "      <td>0.032</td>\n",
       "      <td>0.030</td>\n",
       "      <td>0.024</td>\n",
       "      <td>0.024</td>\n",
       "    </tr>\n",
       "    <tr>\n",
       "      <th>Error: Test set</th>\n",
       "      <td>0.036</td>\n",
       "      <td>0.037</td>\n",
       "      <td>0.037</td>\n",
       "      <td>0.034</td>\n",
       "      <td>0.034</td>\n",
       "    </tr>\n",
       "    <tr>\n",
       "      <th>Run Time (min)</th>\n",
       "      <td>4.310</td>\n",
       "      <td>1.120</td>\n",
       "      <td>1.160</td>\n",
       "      <td>1.180</td>\n",
       "      <td>1.190</td>\n",
       "    </tr>\n",
       "  </tbody>\n",
       "</table>\n",
       "</div>"
      ],
      "text/plain": [
       "                  Gradient Descent  Stochastic GD  Minibatch BGD  \\\n",
       "Error: Train set             0.029          0.032          0.030   \n",
       "Error: Test set              0.036          0.037          0.037   \n",
       "Run Time (min)               4.310          1.120          1.160   \n",
       "\n",
       "                  GD w/ Momentum  GD w/ Nesterov Acc  \n",
       "Error: Train set           0.024               0.024  \n",
       "Error: Test set            0.034               0.034  \n",
       "Run Time (min)             1.180               1.190  "
      ]
     },
     "execution_count": 15,
     "metadata": {},
     "output_type": "execute_result"
    }
   ],
   "source": [
    "algs = np.array(['Gradient Descent', 'Stochastic GD', 'Minibatch BGD', 'GD w/ Momentum', 'GD w/ Nesterov Acc'])\n",
    "runtime = np.around( np.array([time_GD, time_SGD, time_MBGD, time_MBGD_MMT, time_MBGD_Nest]) / 60, 2)\n",
    "\n",
    "df = pd.DataFrame(columns = algs)\n",
    "df.loc['Error: Train set'] = Err_Train\n",
    "df.loc['Error: Test set'] = Err_Test\n",
    "df.loc['Run Time (min)'] = runtime\n",
    "\n",
    "line = '----------------------------------------------------------'\n",
    "print(line + '\\n' + 'Algorithm Statistics:' + '\\n' + line)\n",
    "df"
   ]
  },
  {
   "cell_type": "markdown",
   "metadata": {},
   "source": [
    "To conclude, we have some observations:\n",
    "\n",
    "*  *Model accuracy*: with the exception of stochastic GD, all the other variants have very similar (and good) error rates,\n",
    "*  *Runtime complexity*: we observe the big difference between training on the entire dataset (base GD) versus on a subset (minibatch GD)."
   ]
  }
 ],
 "metadata": {
  "kernelspec": {
   "display_name": "Python 3",
   "language": "python",
   "name": "python3"
  },
  "language_info": {
   "codemirror_mode": {
    "name": "ipython",
    "version": 3
   },
   "file_extension": ".py",
   "mimetype": "text/x-python",
   "name": "python",
   "nbconvert_exporter": "python",
   "pygments_lexer": "ipython3",
   "version": "3.7.6"
  }
 },
 "nbformat": 4,
 "nbformat_minor": 4
}
