{
 "cells": [
  {
   "cell_type": "markdown",
   "metadata": {},
   "source": [
    "## Solving non-linear equations\n",
    "\n",
    "#### Bisection Algorithm"
   ]
  },
  {
   "cell_type": "markdown",
   "metadata": {},
   "source": [
    "Implement the *bisection method* to find the roots of these functions on the respective intervals.\n",
    "\n",
    "(a) $f = x^{-1} - \\tan(x)$ on $[0, \\pi/2]$\n",
    "\n",
    "(b) $f = x^{-1} - 2^x$ on $[0,1]$"
   ]
  },
  {
   "cell_type": "code",
   "execution_count": 1,
   "metadata": {},
   "outputs": [],
   "source": [
    "import numpy as np"
   ]
  },
  {
   "cell_type": "markdown",
   "metadata": {},
   "source": [
    "`bisection_alg` a generic function to execute the bisection algorithm"
   ]
  },
  {
   "cell_type": "code",
   "execution_count": 2,
   "metadata": {},
   "outputs": [],
   "source": [
    "def bisection_alg(a,b,M,delta,epsilon,f):\n",
    "    \n",
    "    u = f(a)    # Test at the initial interval\n",
    "    v = f(b)\n",
    "    e = b - a   # e: width of interval\n",
    "\n",
    "    if np.sign(u) != np.sign(v):   # Only proceed if of different sign\n",
    "\n",
    "        for k in range(0, M):      # M: max{#(iterations)}\n",
    "            e = e/2\n",
    "            c = a + e              # update at the lower bound of interval\n",
    "            w = f(c)               # evaluate the function\n",
    "            \n",
    "            # If any of stopping criteria is satisfied, stop and return\n",
    "            if (np.abs(e) < delta or np.abs(w) < epsilon):  \n",
    "                return(np.round(c,3))\n",
    "            # If not, continue the halving procedure\n",
    "            else:\n",
    "                if (np.sign(w) != np.sign(u)):\n",
    "                    b = c; v = w\n",
    "                else:\n",
    "                    a = c; u = w"
   ]
  },
  {
   "cell_type": "markdown",
   "metadata": {},
   "source": [
    "(a) $f = x^{-1} - \\tan(x)$, denoted by `f_a(x)`"
   ]
  },
  {
   "cell_type": "code",
   "execution_count": 3,
   "metadata": {},
   "outputs": [],
   "source": [
    "# define function a\n",
    "def f_a(x):\n",
    "    f_x = x**(-1) - np.tan(x)\n",
    "    return(f_x)"
   ]
  },
  {
   "cell_type": "markdown",
   "metadata": {},
   "source": [
    "Finding root on interval $[0,\\pi/2]$."
   ]
  },
  {
   "cell_type": "code",
   "execution_count": 4,
   "metadata": {},
   "outputs": [
    {
     "name": "stdout",
     "output_type": "stream",
     "text": [
      "The root via the bisection algorithm is: 0.861\n"
     ]
    }
   ],
   "source": [
    "a = 0.000001\n",
    "b = np.pi/2\n",
    "root = bisection_alg(a,b,100,.001, .001, f_a)\n",
    "print('The root via the bisection algorithm is: ' + str(root))"
   ]
  },
  {
   "cell_type": "markdown",
   "metadata": {},
   "source": [
    "***\n",
    "\n",
    "(b) $f = x^{-1} - 2^x$, denoted by `f_b(x)`"
   ]
  },
  {
   "cell_type": "code",
   "execution_count": 5,
   "metadata": {},
   "outputs": [],
   "source": [
    "def f_b(x):\n",
    "    f_x = x**(-1) - 2**x\n",
    "    return(f_x)"
   ]
  },
  {
   "cell_type": "markdown",
   "metadata": {},
   "source": [
    "Finding root on interval $[0,1]$."
   ]
  },
  {
   "cell_type": "code",
   "execution_count": 6,
   "metadata": {},
   "outputs": [
    {
     "name": "stdout",
     "output_type": "stream",
     "text": [
      "The root via the bisection algorithm is: 0.642\n"
     ]
    }
   ],
   "source": [
    "a = 0.000001\n",
    "b = 1\n",
    "root = bisection_alg(a,b,100,.001, .001, f_b)\n",
    "print('The root via the bisection algorithm is: ' + str(root))"
   ]
  }
 ],
 "metadata": {
  "kernelspec": {
   "display_name": "Python 3",
   "language": "python",
   "name": "python3"
  },
  "language_info": {
   "codemirror_mode": {
    "name": "ipython",
    "version": 3
   },
   "file_extension": ".py",
   "mimetype": "text/x-python",
   "name": "python",
   "nbconvert_exporter": "python",
   "pygments_lexer": "ipython3",
   "version": "3.7.6"
  }
 },
 "nbformat": 4,
 "nbformat_minor": 4
}
