{
 "cells": [
  {
   "cell_type": "markdown",
   "metadata": {},
   "source": [
    "### Math 170B - Homework 5\n",
    "\n",
    "#### Polynomial interpolation: Newton form"
   ]
  },
  {
   "cell_type": "markdown",
   "metadata": {},
   "source": [
    "**4.**\n",
    "\n",
    "Write a program that takes as input data points $(x_i, y_i), i = 0, . . . , n$, and outputs the Newton form of the interpolating polynomial (coefficients are good enough).  Then use your program to interpolate the function\n",
    "$$ f(x) = \\frac{1}{1+x^2},\n",
    "    \\ \\ \\ \\ \\ \\ x \\in [-5,5]\n",
    "$$\n",
    "based on $15$ equidistantly sampled points.  Also compute the cubic spline $S$ that interpolates the function on these $15$ sample points (use a built-in function for that, for example, in MATLAB, use the command ”spline”).\n",
    "\n",
    "Plot the sample points off, the Newton interpolation polynomial $p$ and the spline $S$ in one figure. What is your conclusion from looking at these plots?"
   ]
  },
  {
   "cell_type": "code",
   "execution_count": 1,
   "metadata": {},
   "outputs": [],
   "source": [
    "import numpy as np\n",
    "import pandas as pd\n",
    "import scipy as sp\n",
    "from scipy.interpolate import interp1d\n",
    "from matplotlib import pyplot as plt\n",
    "from matplotlib.pyplot import figure"
   ]
  },
  {
   "cell_type": "markdown",
   "metadata": {},
   "source": [
    "Partition into $15$ equidistantly sampled points in the interval $[-5,5]$, denoted by $\\{x_i\\}_{i=1}^{15}$ and $y_i = f(x_i)$."
   ]
  },
  {
   "cell_type": "code",
   "execution_count": 2,
   "metadata": {},
   "outputs": [],
   "source": [
    "# 15 equidistantly sampled points\n",
    "x_points = np.linspace(-5,5,15)\n",
    "y_points = 1 / (1 + x_points**2)\n",
    "\n",
    "# Grid of x to interpolate polynomials\n",
    "x_grid = np.linspace(-5,5,201)\n",
    "y_grid = 1 / (1 + x_grid**2)"
   ]
  },
  {
   "cell_type": "markdown",
   "metadata": {},
   "source": [
    "1. **Newton** form of interpolating polynomial\n",
    "\n",
    "Finding the coefficients $d_i$ for $0 \\leq i \\leq n$, where\n",
    "$$ p(x) = \\sum_{i-0}^n \\ \\bigg( d_i \\prod_{j=0}^{i-1} (x - x_j) \\bigg)\n",
    "$$"
   ]
  },
  {
   "cell_type": "code",
   "execution_count": 3,
   "metadata": {},
   "outputs": [],
   "source": [
    "def Newton_coef(data_x, data_y):\n",
    "    \n",
    "    n = len(data_x)\n",
    "    d = np.zeros(n)\n",
    "    \n",
    "    for i in range(0,n):\n",
    "        d[i] = data_y[i]\n",
    "    \n",
    "    for j in range(1,n):\n",
    "        for i in range(n-1, j-1, -1):\n",
    "            d[i] = (d[i] - d[i-1]) / (data_x[i] - data_x[i-j])\n",
    "    \n",
    "    return(d)\n",
    "\n",
    "d = Newton_coef(x_points, y_points)"
   ]
  },
  {
   "cell_type": "markdown",
   "metadata": {},
   "source": [
    "Interpolating using those polynomials."
   ]
  },
  {
   "cell_type": "code",
   "execution_count": 5,
   "metadata": {},
   "outputs": [],
   "source": [
    "def Newton_poly(x, data_x, coef):\n",
    "    \n",
    "    n = len(data_x)\n",
    "    current_term = coef[n-1] + (x - data_x[n-1])\n",
    "    \n",
    "    for i in range(n-2, -1, -1):\n",
    "        current_term = current_term * (x - data_x[i]) + coef[i]\n",
    "    return(current_term)\n",
    "\n",
    "y_newton = Newton_poly(x_grid, x_points, d)"
   ]
  },
  {
   "cell_type": "markdown",
   "metadata": {},
   "source": [
    "2. __Splines__"
   ]
  },
  {
   "cell_type": "code",
   "execution_count": 6,
   "metadata": {},
   "outputs": [],
   "source": [
    "y_splines = sp.interpolate.interp1d(x_points, y_points, kind='cubic')(x_grid)"
   ]
  },
  {
   "cell_type": "markdown",
   "metadata": {},
   "source": [
    "3. __Plots__"
   ]
  },
  {
   "cell_type": "code",
   "execution_count": 14,
   "metadata": {},
   "outputs": [
    {
     "data": {
      "image/png": "[encoded data removed]",
      "text/plain": [
       "<Figure size 960x480 with 1 Axes>"
      ]
     },
     "metadata": {},
     "output_type": "display_data"
    }
   ],
   "source": [
    "figure(num=None, figsize=(12, 6), dpi=80, facecolor='w', edgecolor='k')\n",
    "\n",
    "plt.plot(x_grid, y_grid, ':', color = 'gray')\n",
    "plt.scatter(x_grid, y_grid, s = 10, color = '#336699', label = 'Data points')\n",
    "plt.scatter(x_grid, y_splines, s = 10, color = 'red', label = 'Splines')\n",
    "plt.scatter(x_grid, y_newton, s = 10, color = 'green', label = 'Newton form')\n",
    "plt.xlabel(r'$x$', fontsize = 12); plt.ylabel(r'$y$', fontsize = 12)\n",
    "plt.title('Polynomial interpolation', fontsize = 15)\n",
    "plt.legend()\n",
    "\n",
    "plt.savefig('170B - HW5 - P4 - Polynomial Interpolation.png', bbox_inches='tight')"
   ]
  }
 ],
 "metadata": {
  "kernelspec": {
   "display_name": "Python 3",
   "language": "python",
   "name": "python3"
  },
  "language_info": {
   "codemirror_mode": {
    "name": "ipython",
    "version": 3
   },
   "file_extension": ".py",
   "mimetype": "text/x-python",
   "name": "python",
   "nbconvert_exporter": "python",
   "pygments_lexer": "ipython3",
   "version": "3.7.6"
  }
 },
 "nbformat": 4,
 "nbformat_minor": 4
}
